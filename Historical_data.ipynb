{
 "cells": [
  {
   "cell_type": "code",
   "execution_count": null,
   "id": "a76f609b",
   "metadata": {},
   "outputs": [],
   "source": [
    "import requests\n",
    "import json\n",
    "import datetime\n",
    "import pytz\n",
    "import time\n",
    "from dateutil import parser\n",
    "from requests.exceptions import RequestException"
   ]
  },
  {
   "cell_type": "code",
   "execution_count": null,
   "id": "93fe4679",
   "metadata": {},
   "outputs": [],
   "source": [
    "def get_unix_timestamp(date_str):\n",
    "    date_obj = parser.parse(date_str)\n",
    "    day = date_obj.day\n",
    "    month = date_obj.month\n",
    "    year = date_obj.year\n",
    "    hour = 15\n",
    "    minute = 30\n",
    "    tz = pytz.timezone('Asia/Kolkata')  # Indian Standard Time (IST)\n",
    "    dt = tz.localize(datetime.datetime(year, month, day, hour, minute))\n",
    "    return int(dt.timestamp())"
   ]
  },
  {
   "cell_type": "code",
   "execution_count": null,
   "id": "e643217f",
   "metadata": {},
   "outputs": [],
   "source": [
    "url_expiries = 'https://opstra.definedge.com/api/optionsimulator/simulatorexpiries'\n",
    "headers = {'Cookie': 'JSESSIONID=37495F1EC678627FF4925324BE2686FD'}\n",
    "reversed_expiries = requests.get(url_expiries, headers=headers)\n",
    "expiries = reversed_expiries.json()[::-1]\n",
    "expiry = ['31JAN2019']\n",
    "expiries"
   ]
  },
  {
   "cell_type": "code",
   "execution_count": null,
   "id": "314bde08",
   "metadata": {},
   "outputs": [],
   "source": [
    "url_timestamps = 'https://opstra.definedge.com/api/optionsimulator/timestamps/2019-01-01&2023-05-25'\n",
    "timestamps = requests.get(url_timestamps, headers=headers)\n",
    "data_timestamp = timestamps.json()[\"timestamps\"]\n",
    "data_timestamp_dict = dict.fromkeys(data_timestamp, 0)"
   ]
  },
  {
   "cell_type": "code",
   "execution_count": null,
   "id": "152ff527",
   "metadata": {},
   "outputs": [],
   "source": [
    "data = dict.fromkeys(expiries, data_timestamp_dict)\n",
    "# del data['31JAN2019'][1546314600]\n",
    "data"
   ]
  },
  {
   "cell_type": "code",
   "execution_count": null,
   "id": "0f531987",
   "metadata": {
    "scrolled": false
   },
   "outputs": [],
   "source": [
    "# for value in expiries:\n",
    "#     print(value)\n",
    "#     i = 0\n",
    "#     while(get_unix_timestamp(value)>=data_timestamp[i]):\n",
    "#         print(data_timestamp[i])\n",
    "#         try:\n",
    "#             url_data = 'https://opstra.definedge.com/api/optionsimulator/optionchain/'+str(data_timestamp[i])+'&NIFTY&'+value\n",
    "#             data[value][data_timestamp[i]] = requests.get(url_data, headers=headers).json()\n",
    "#         except RequestException:\n",
    "#             data[value].pop(data_timestamp[i])\n",
    "#             pass\n",
    "#         i=i+1"
   ]
  },
  {
   "cell_type": "code",
   "execution_count": null,
   "id": "c33bcfb9",
   "metadata": {},
   "outputs": [],
   "source": [
    "for value in expiries:\n",
    "    print(value)\n",
    "    maxts = get_unix_timestamp(value)\n",
    "    unwanted = []\n",
    "    for ts in data_timestamp:\n",
    "        if(maxts>=ts):\n",
    "            url_data = 'https://opstra.definedge.com/api/optionsimulator/optionchain/'+str(ts)+'&NIFTY&'+value\n",
    "            try:\n",
    "                r = requests.get(url_data, headers=headers)\n",
    "                if r.status_code == 200:\n",
    "                    data[value][ts] = r.json()\n",
    "                else:\n",
    "                    unwanted.append(ts)\n",
    "            except RequestException as e:\n",
    "                print(f\"Request failed for timestamp {ts}: {e}\")\n",
    "                unwanted.append(ts)\n",
    "#             r = requests.get(url_data, headers=headers)\n",
    "#             if(r.status_code==200):\n",
    "#                 data[value][ts] = r.json()\n",
    "#             else:\n",
    "#                 unwanted.append(ts)\n",
    "        else:\n",
    "            unwanted.append(ts)\n",
    "    dict = data[value].copy()\n",
    "    for val in unwanted:\n",
    "        if val in dict:\n",
    "            dict.pop(val)\n",
    "    data[value] = dict\n",
    "    dict.clear()"
   ]
  },
  {
   "cell_type": "code",
   "execution_count": null,
   "id": "3a254ce5",
   "metadata": {},
   "outputs": [],
   "source": [
    "filename = 'data.json'          #use the file extension .json\n",
    "with open(filename, 'w') as file_object:  #open the file in write mode\n",
    " json.dump(data, file_object)"
   ]
  },
  {
   "cell_type": "code",
   "execution_count": null,
   "id": "31cac289",
   "metadata": {},
   "outputs": [],
   "source": [
    "1+2"
   ]
  },
  {
   "cell_type": "code",
   "execution_count": null,
   "id": "0ac082e8",
   "metadata": {},
   "outputs": [],
   "source": []
  }
 ],
 "metadata": {
  "kernelspec": {
   "display_name": "Python 3 (ipykernel)",
   "language": "python",
   "name": "python3"
  },
  "language_info": {
   "codemirror_mode": {
    "name": "ipython",
    "version": 3
   },
   "file_extension": ".py",
   "mimetype": "text/x-python",
   "name": "python",
   "nbconvert_exporter": "python",
   "pygments_lexer": "ipython3",
   "version": "3.10.9"
  }
 },
 "nbformat": 4,
 "nbformat_minor": 5
}
